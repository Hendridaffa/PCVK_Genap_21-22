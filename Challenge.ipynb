{
  "nbformat": 4,
  "nbformat_minor": 0,
  "metadata": {
    "colab": {
      "name": "Challenge.ipynb",
      "provenance": [],
      "collapsed_sections": [],
      "authorship_tag": "ABX9TyOukPv9AM1fc1hp5zkwPxeR",
      "include_colab_link": true
    },
    "kernelspec": {
      "name": "python3",
      "display_name": "Python 3"
    },
    "language_info": {
      "name": "python"
    }
  },
  "cells": [
    {
      "cell_type": "markdown",
      "metadata": {
        "id": "view-in-github",
        "colab_type": "text"
      },
      "source": [
        "<a href=\"https://colab.research.google.com/github/Hendridaffa/PCVK_Genap_21-22/blob/main/Challenge.ipynb\" target=\"_parent\"><img src=\"https://colab.research.google.com/assets/colab-badge.svg\" alt=\"Open In Colab\"/></a>"
      ]
    },
    {
      "cell_type": "markdown",
      "source": [
        "# **# Tugas Challenge**\n",
        " **1. Perkalian Matriks**"
      ],
      "metadata": {
        "id": "eQQHbeLmEIS0"
      }
    },
    {
      "cell_type": "code",
      "execution_count": 41,
      "metadata": {
        "colab": {
          "base_uri": "https://localhost:8080/"
        },
        "id": "ZXG5OKdn5tpn",
        "outputId": "830857e4-994f-4bc1-aa7b-9072840831cc"
      },
      "outputs": [
        {
          "output_type": "stream",
          "name": "stdout",
          "text": [
            "42 6 54 \n",
            "72 17 64 \n",
            "46 13 37 \n"
          ]
        }
      ],
      "source": [
        "mat1 = [\n",
        "    [2, 0, 6],\n",
        "    [4, 6, 5],\n",
        "    [1, 5, 3],\n",
        "]\n",
        "\n",
        "mat2 = [\n",
        "    [3, 0, 3],\n",
        "    [5, 2, 2],\n",
        "    [6, 1, 8],]\n",
        "\n",
        "mat3 = []\n",
        "\n",
        "for x in range(0, len(mat1)):\n",
        "    row = []\n",
        "    for y in range(0, len(mat1[0])):\n",
        "        total = 0\n",
        "        for z in range(0, len(mat1)):\n",
        "            total = total + (mat1[x][z] * mat2[z][y])\n",
        "        row.append(total)\n",
        "    mat3.append(row)\n",
        "\n",
        "\n",
        "for x in range(0, len(mat3)):\n",
        "    for y in range(0, len(mat3[0])):\n",
        "        print (mat3[x][y], end=' ')\n",
        "    print ()"
      ]
    },
    {
      "cell_type": "code",
      "source": [
        "print ('Program perkalian matriks [A]*[B]=[C]')\n",
        "\n",
        "from numpy import *\n",
        "A = array([[1, 2, 4],\\\n",
        "           [3, 3, 2]]) # A berukuran 2x3\n",
        "B = array([[1, 4],\\\n",
        "           [4, 3],\\\n",
        "           [2, 5]]) # B berukuran 3x2\n",
        "n=2 # jumlah baris matrik A\n",
        "m=2 # jumlah kolom matrik B\n",
        "p=3 # jumlah kolom matrik A sekaligus jumlah baris matrik B\n",
        "C = zeros((n,m))\n",
        "for i in range(0,n):\n",
        "    for j in range(0,m):\n",
        "        for k in range(0,p):\n",
        "            C[i][j]=C[i][j]+A[i][k]*B[k][j]\n",
        "\n",
        "print ()\n",
        "print ('matriks A')\n",
        "print (A)\n",
        "print ()\n",
        "print ('matriks B')\n",
        "print (B)\n",
        "print ()\n",
        "print ('matriks C (Hasil)')\n",
        "print (C)"
      ],
      "metadata": {
        "colab": {
          "base_uri": "https://localhost:8080/"
        },
        "id": "VmJfpjimb7Aj",
        "outputId": "f376560c-6631-4eb3-c70b-6c8e0d7c4a8f"
      },
      "execution_count": 36,
      "outputs": [
        {
          "output_type": "stream",
          "name": "stdout",
          "text": [
            "Program perkalian matriks [A]*[B]=[C]\n",
            "\n",
            "matriks A\n",
            "[[1 2 4]\n",
            " [3 3 2]]\n",
            "\n",
            "matriks B\n",
            "[[1 4]\n",
            " [4 3]\n",
            " [2 5]]\n",
            "\n",
            "matriks C (Hasil)\n",
            "[[17. 30.]\n",
            " [19. 31.]]\n"
          ]
        }
      ]
    }
  ]
}